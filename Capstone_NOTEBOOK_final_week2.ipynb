{
 "cells": [
  {
   "cell_type": "markdown",
   "metadata": {},
   "source": [
    "<h1 align=center><font size = 5>Capstone Project - The Battle of Neighborhoods (Week 2)</font></h1> "
   ]
  },
  {
   "cell_type": "markdown",
   "metadata": {},
   "source": [
    "<h2 align=center><font size = 4> By Awet Tsegai</font></h1>"
   ]
  },
  {
   "cell_type": "markdown",
   "metadata": {},
   "source": [
    "<h2 align=center><font size = 4>Using machine learning to find location for opening a new restaurant in Michigan.</font></h1> "
   ]
  },
  {
   "cell_type": "markdown",
   "metadata": {},
   "source": [
    "## I. IMPORTING AND EXPLORING THE DATA"
   ]
  },
  {
   "cell_type": "markdown",
   "metadata": {},
   "source": [
    "#### Import libraries"
   ]
  },
  {
   "cell_type": "code",
   "execution_count": 1,
   "metadata": {},
   "outputs": [
    {
     "name": "stdout",
     "output_type": "stream",
     "text": [
      "Libraries imported.\n"
     ]
    }
   ],
   "source": [
    "import numpy as np # library to handle data in a vectorized manner\n",
    "\n",
    "import pandas as pd # library for data analsysis\n",
    "pd.set_option('display.max_columns', None)\n",
    "pd.set_option('display.max_rows', None)\n",
    "\n",
    "import json # library to handle JSON files\n",
    "\n",
    "import requests # library to handle requests\n",
    "from pandas.io.json import json_normalize # tranform JSON file into a pandas dataframe\n",
    "\n",
    "# Matplotlib and associated plotting modules\n",
    "import matplotlib.cm as cm\n",
    "import matplotlib.colors as colors\n",
    "import matplotlib.pyplot as plt\n",
    "\n",
    "# import k-means from clustering stage\n",
    "from sklearn.cluster import KMeans\n",
    "\n",
    "print('Libraries imported.')"
   ]
  },
  {
   "cell_type": "code",
   "execution_count": 34,
   "metadata": {},
   "outputs": [
    {
     "name": "stdout",
     "output_type": "stream",
     "text": [
      "Libraries imported.\n"
     ]
    }
   ],
   "source": [
    "#Import library  (unmark if not already installed)\n",
    "#import geocoder  to get coordinates\n",
    "#!pip install geopy #unmark if not already installed\n",
    "from geopy.geocoders import Nominatim # convert an address into latitude and longitude values\n",
    "\n",
    "#!pip install geocoder #unmark if not already installed\n",
    "import geocoder\n",
    "\n",
    "#map rendering library\n",
    "#!pip install folium #unmark if not already installed\n",
    "import folium\n",
    "\n",
    "#lxml html reader\n",
    "#! pip3 install lxml # run if not aleady installed\n",
    "print('Libraries imported.')"
   ]
  },
  {
   "cell_type": "markdown",
   "metadata": {},
   "source": [
    "#### Download and explore the data"
   ]
  },
  {
   "cell_type": "code",
   "execution_count": 3,
   "metadata": {},
   "outputs": [
    {
     "name": "stdout",
     "output_type": "stream",
     "text": [
      "(85, 7)\n"
     ]
    },
    {
     "data": {
      "text/html": [
       "<div>\n",
       "<style scoped>\n",
       "    .dataframe tbody tr th:only-of-type {\n",
       "        vertical-align: middle;\n",
       "    }\n",
       "\n",
       "    .dataframe tbody tr th {\n",
       "        vertical-align: top;\n",
       "    }\n",
       "\n",
       "    .dataframe thead th {\n",
       "        text-align: right;\n",
       "    }\n",
       "</style>\n",
       "<table border=\"1\" class=\"dataframe\">\n",
       "  <thead>\n",
       "    <tr style=\"text-align: right;\">\n",
       "      <th></th>\n",
       "      <th>Rank</th>\n",
       "      <th>County</th>\n",
       "      <th>Per capitaincome</th>\n",
       "      <th>Medianhouseholdincome</th>\n",
       "      <th>Medianfamilyincome</th>\n",
       "      <th>Population</th>\n",
       "      <th>Number ofhouseholds</th>\n",
       "    </tr>\n",
       "  </thead>\n",
       "  <tbody>\n",
       "    <tr>\n",
       "      <th>0</th>\n",
       "      <td>1.0</td>\n",
       "      <td>Oakland</td>\n",
       "      <td>$56,138</td>\n",
       "      <td>$85,991</td>\n",
       "      <td>$94,783</td>\n",
       "      <td>1202362</td>\n",
       "      <td>483698</td>\n",
       "    </tr>\n",
       "    <tr>\n",
       "      <th>1</th>\n",
       "      <td>2.0</td>\n",
       "      <td>Leelanau</td>\n",
       "      <td>$32,194</td>\n",
       "      <td>$56,527</td>\n",
       "      <td>$65,342</td>\n",
       "      <td>21708</td>\n",
       "      <td>9255</td>\n",
       "    </tr>\n",
       "    <tr>\n",
       "      <th>2</th>\n",
       "      <td>3.0</td>\n",
       "      <td>Livingston</td>\n",
       "      <td>$31,609</td>\n",
       "      <td>$72,129</td>\n",
       "      <td>$82,637</td>\n",
       "      <td>180967</td>\n",
       "      <td>67380</td>\n",
       "    </tr>\n",
       "    <tr>\n",
       "      <th>3</th>\n",
       "      <td>4.0</td>\n",
       "      <td>Washtenaw</td>\n",
       "      <td>$31,316</td>\n",
       "      <td>$59,065</td>\n",
       "      <td>$82,184</td>\n",
       "      <td>344791</td>\n",
       "      <td>137193</td>\n",
       "    </tr>\n",
       "    <tr>\n",
       "      <th>4</th>\n",
       "      <td>5.0</td>\n",
       "      <td>Charlevoix</td>\n",
       "      <td>$28,403</td>\n",
       "      <td>$48,704</td>\n",
       "      <td>$57,022</td>\n",
       "      <td>25949</td>\n",
       "      <td>10882</td>\n",
       "    </tr>\n",
       "  </tbody>\n",
       "</table>\n",
       "</div>"
      ],
      "text/plain": [
       "   Rank      County Per capitaincome Medianhouseholdincome Medianfamilyincome  \\\n",
       "0   1.0     Oakland          $56,138               $85,991            $94,783   \n",
       "1   2.0    Leelanau          $32,194               $56,527            $65,342   \n",
       "2   3.0  Livingston          $31,609               $72,129            $82,637   \n",
       "3   4.0   Washtenaw          $31,316               $59,065            $82,184   \n",
       "4   5.0  Charlevoix          $28,403               $48,704            $57,022   \n",
       "\n",
       "   Population  Number ofhouseholds  \n",
       "0     1202362               483698  \n",
       "1       21708                 9255  \n",
       "2      180967                67380  \n",
       "3      344791               137193  \n",
       "4       25949                10882  "
      ]
     },
     "execution_count": 3,
     "metadata": {},
     "output_type": "execute_result"
    }
   ],
   "source": [
    "df=pd.read_html('https://en.wikipedia.org/wiki/List_of_Michigan_locations_by_per_capita_income')\n",
    "df = df[1]\n",
    "print(df.shape)\n",
    "df.head()"
   ]
  },
  {
   "cell_type": "markdown",
   "metadata": {},
   "source": [
    "#### Clean and select Data"
   ]
  },
  {
   "cell_type": "markdown",
   "metadata": {},
   "source": [
    "Data will be cleaned to remove NaN from rank and dollar symboles from income and str will be converted to int for income."
   ]
  },
  {
   "cell_type": "code",
   "execution_count": 4,
   "metadata": {},
   "outputs": [
    {
     "name": "stdout",
     "output_type": "stream",
     "text": [
      "(83, 3)\n"
     ]
    },
    {
     "data": {
      "text/html": [
       "<div>\n",
       "<style scoped>\n",
       "    .dataframe tbody tr th:only-of-type {\n",
       "        vertical-align: middle;\n",
       "    }\n",
       "\n",
       "    .dataframe tbody tr th {\n",
       "        vertical-align: top;\n",
       "    }\n",
       "\n",
       "    .dataframe thead th {\n",
       "        text-align: right;\n",
       "    }\n",
       "</style>\n",
       "<table border=\"1\" class=\"dataframe\">\n",
       "  <thead>\n",
       "    <tr style=\"text-align: right;\">\n",
       "      <th></th>\n",
       "      <th>Neighborhood</th>\n",
       "      <th>Income</th>\n",
       "      <th>Population</th>\n",
       "    </tr>\n",
       "  </thead>\n",
       "  <tbody>\n",
       "    <tr>\n",
       "      <th>0</th>\n",
       "      <td>Oakland</td>\n",
       "      <td>56138</td>\n",
       "      <td>1202362</td>\n",
       "    </tr>\n",
       "    <tr>\n",
       "      <th>1</th>\n",
       "      <td>Leelanau</td>\n",
       "      <td>32194</td>\n",
       "      <td>21708</td>\n",
       "    </tr>\n",
       "    <tr>\n",
       "      <th>2</th>\n",
       "      <td>Livingston</td>\n",
       "      <td>31609</td>\n",
       "      <td>180967</td>\n",
       "    </tr>\n",
       "    <tr>\n",
       "      <th>3</th>\n",
       "      <td>Washtenaw</td>\n",
       "      <td>31316</td>\n",
       "      <td>344791</td>\n",
       "    </tr>\n",
       "    <tr>\n",
       "      <th>4</th>\n",
       "      <td>Charlevoix</td>\n",
       "      <td>28403</td>\n",
       "      <td>25949</td>\n",
       "    </tr>\n",
       "  </tbody>\n",
       "</table>\n",
       "</div>"
      ],
      "text/plain": [
       "  Neighborhood  Income  Population\n",
       "0      Oakland   56138     1202362\n",
       "1     Leelanau   32194       21708\n",
       "2   Livingston   31609      180967\n",
       "3    Washtenaw   31316      344791\n",
       "4   Charlevoix   28403       25949"
      ]
     },
     "execution_count": 4,
     "metadata": {},
     "output_type": "execute_result"
    }
   ],
   "source": [
    "df.dropna(axis=0, inplace=True)\n",
    "df.drop(['Rank', 'Medianhouseholdincome', 'Medianfamilyincome','Number ofhouseholds'], axis=1 , inplace=True)\n",
    "df.rename(columns= {'County':'Neighborhood', 'Per capitaincome':'Income'}, inplace=True)\n",
    "df.Income = [x.strip('$') for x in df.Income]\n",
    "df.Income = df.Income.str.replace(',', '')\n",
    "df[\"Income\"] = df[\"Income\"].astype(str).astype(int)\n",
    "print(df.shape)\n",
    "df.head()"
   ]
  },
  {
   "cell_type": "code",
   "execution_count": 5,
   "metadata": {},
   "outputs": [
    {
     "data": {
      "text/html": [
       "<div>\n",
       "<style scoped>\n",
       "    .dataframe tbody tr th:only-of-type {\n",
       "        vertical-align: middle;\n",
       "    }\n",
       "\n",
       "    .dataframe tbody tr th {\n",
       "        vertical-align: top;\n",
       "    }\n",
       "\n",
       "    .dataframe thead th {\n",
       "        text-align: right;\n",
       "    }\n",
       "</style>\n",
       "<table border=\"1\" class=\"dataframe\">\n",
       "  <thead>\n",
       "    <tr style=\"text-align: right;\">\n",
       "      <th></th>\n",
       "      <th>Income</th>\n",
       "      <th>Population</th>\n",
       "    </tr>\n",
       "  </thead>\n",
       "  <tbody>\n",
       "    <tr>\n",
       "      <th>count</th>\n",
       "      <td>83.000000</td>\n",
       "      <td>8.300000e+01</td>\n",
       "    </tr>\n",
       "    <tr>\n",
       "      <th>mean</th>\n",
       "      <td>22439.626506</td>\n",
       "      <td>1.190800e+05</td>\n",
       "    </tr>\n",
       "    <tr>\n",
       "      <th>std</th>\n",
       "      <td>4972.042135</td>\n",
       "      <td>2.597951e+05</td>\n",
       "    </tr>\n",
       "    <tr>\n",
       "      <th>min</th>\n",
       "      <td>16084.000000</td>\n",
       "      <td>2.156000e+03</td>\n",
       "    </tr>\n",
       "    <tr>\n",
       "      <th>25%</th>\n",
       "      <td>19814.000000</td>\n",
       "      <td>2.261800e+04</td>\n",
       "    </tr>\n",
       "    <tr>\n",
       "      <th>50%</th>\n",
       "      <td>21624.000000</td>\n",
       "      <td>3.852000e+04</td>\n",
       "    </tr>\n",
       "    <tr>\n",
       "      <th>75%</th>\n",
       "      <td>23841.000000</td>\n",
       "      <td>9.410550e+04</td>\n",
       "    </tr>\n",
       "    <tr>\n",
       "      <th>max</th>\n",
       "      <td>56138.000000</td>\n",
       "      <td>1.820584e+06</td>\n",
       "    </tr>\n",
       "  </tbody>\n",
       "</table>\n",
       "</div>"
      ],
      "text/plain": [
       "             Income    Population\n",
       "count     83.000000  8.300000e+01\n",
       "mean   22439.626506  1.190800e+05\n",
       "std     4972.042135  2.597951e+05\n",
       "min    16084.000000  2.156000e+03\n",
       "25%    19814.000000  2.261800e+04\n",
       "50%    21624.000000  3.852000e+04\n",
       "75%    23841.000000  9.410550e+04\n",
       "max    56138.000000  1.820584e+06"
      ]
     },
     "execution_count": 5,
     "metadata": {},
     "output_type": "execute_result"
    }
   ],
   "source": [
    "# Describing the data\n",
    "df.describe()"
   ]
  },
  {
   "cell_type": "markdown",
   "metadata": {},
   "source": [
    "#### Remove Outliers "
   ]
  },
  {
   "cell_type": "markdown",
   "metadata": {},
   "source": [
    "Population below 10,000 (fewer customers) and above 600000 (high competitive) will be removed"
   ]
  },
  {
   "cell_type": "code",
   "execution_count": 6,
   "metadata": {},
   "outputs": [
    {
     "name": "stdout",
     "output_type": "stream",
     "text": [
      "(71, 3)\n"
     ]
    },
    {
     "data": {
      "text/html": [
       "<div>\n",
       "<style scoped>\n",
       "    .dataframe tbody tr th:only-of-type {\n",
       "        vertical-align: middle;\n",
       "    }\n",
       "\n",
       "    .dataframe tbody tr th {\n",
       "        vertical-align: top;\n",
       "    }\n",
       "\n",
       "    .dataframe thead th {\n",
       "        text-align: right;\n",
       "    }\n",
       "</style>\n",
       "<table border=\"1\" class=\"dataframe\">\n",
       "  <thead>\n",
       "    <tr style=\"text-align: right;\">\n",
       "      <th></th>\n",
       "      <th>Neighborhood</th>\n",
       "      <th>Income</th>\n",
       "      <th>Population</th>\n",
       "    </tr>\n",
       "  </thead>\n",
       "  <tbody>\n",
       "    <tr>\n",
       "      <th>1</th>\n",
       "      <td>Leelanau</td>\n",
       "      <td>32194</td>\n",
       "      <td>21708</td>\n",
       "    </tr>\n",
       "    <tr>\n",
       "      <th>2</th>\n",
       "      <td>Livingston</td>\n",
       "      <td>31609</td>\n",
       "      <td>180967</td>\n",
       "    </tr>\n",
       "    <tr>\n",
       "      <th>3</th>\n",
       "      <td>Washtenaw</td>\n",
       "      <td>31316</td>\n",
       "      <td>344791</td>\n",
       "    </tr>\n",
       "    <tr>\n",
       "      <th>4</th>\n",
       "      <td>Charlevoix</td>\n",
       "      <td>28403</td>\n",
       "      <td>25949</td>\n",
       "    </tr>\n",
       "    <tr>\n",
       "      <th>5</th>\n",
       "      <td>Midland</td>\n",
       "      <td>28363</td>\n",
       "      <td>83629</td>\n",
       "    </tr>\n",
       "  </tbody>\n",
       "</table>\n",
       "</div>"
      ],
      "text/plain": [
       "  Neighborhood  Income  Population\n",
       "1     Leelanau   32194       21708\n",
       "2   Livingston   31609      180967\n",
       "3    Washtenaw   31316      344791\n",
       "4   Charlevoix   28403       25949\n",
       "5      Midland   28363       83629"
      ]
     },
     "execution_count": 6,
     "metadata": {},
     "output_type": "execute_result"
    }
   ],
   "source": [
    "df_mi=df[df.Population.gt(10000) & df.Population.lt(600000)]\n",
    "print(df_mi.shape)\n",
    "df_mi.head()"
   ]
  },
  {
   "cell_type": "markdown",
   "metadata": {},
   "source": [
    "#### Download coordinates"
   ]
  },
  {
   "cell_type": "markdown",
   "metadata": {},
   "source": [
    "Longitude and latitude of each neighborhood will be downlaoded"
   ]
  },
  {
   "cell_type": "code",
   "execution_count": 7,
   "metadata": {},
   "outputs": [],
   "source": [
    "# define a function to get coordinates\n",
    "def get_latlng(Neighborhood):\n",
    "    # initialize your variable to None\n",
    "    lat_lng_coords = None\n",
    "    # loop until you get the coordinates\n",
    "    while(lat_lng_coords is None):\n",
    "        g = geocoder.arcgis('{} , MI, USA'.format(Neighborhood))\n",
    "        lat_lng_coords = g.latlng\n",
    "    return lat_lng_coords"
   ]
  },
  {
   "cell_type": "code",
   "execution_count": 8,
   "metadata": {},
   "outputs": [
    {
     "name": "stdout",
     "output_type": "stream",
     "text": [
      "(83, 2)\n"
     ]
    },
    {
     "data": {
      "text/html": [
       "<div>\n",
       "<style scoped>\n",
       "    .dataframe tbody tr th:only-of-type {\n",
       "        vertical-align: middle;\n",
       "    }\n",
       "\n",
       "    .dataframe tbody tr th {\n",
       "        vertical-align: top;\n",
       "    }\n",
       "\n",
       "    .dataframe thead th {\n",
       "        text-align: right;\n",
       "    }\n",
       "</style>\n",
       "<table border=\"1\" class=\"dataframe\">\n",
       "  <thead>\n",
       "    <tr style=\"text-align: right;\">\n",
       "      <th></th>\n",
       "      <th>Latitude</th>\n",
       "      <th>Longitude</th>\n",
       "    </tr>\n",
       "  </thead>\n",
       "  <tbody>\n",
       "    <tr>\n",
       "      <th>0</th>\n",
       "      <td>42.742140</td>\n",
       "      <td>-83.161740</td>\n",
       "    </tr>\n",
       "    <tr>\n",
       "      <th>1</th>\n",
       "      <td>44.938491</td>\n",
       "      <td>-85.811823</td>\n",
       "    </tr>\n",
       "    <tr>\n",
       "      <th>2</th>\n",
       "      <td>41.968310</td>\n",
       "      <td>-86.542530</td>\n",
       "    </tr>\n",
       "    <tr>\n",
       "      <th>3</th>\n",
       "      <td>42.253229</td>\n",
       "      <td>-83.838777</td>\n",
       "    </tr>\n",
       "    <tr>\n",
       "      <th>4</th>\n",
       "      <td>45.316530</td>\n",
       "      <td>-85.260720</td>\n",
       "    </tr>\n",
       "  </tbody>\n",
       "</table>\n",
       "</div>"
      ],
      "text/plain": [
       "    Latitude  Longitude\n",
       "0  42.742140 -83.161740\n",
       "1  44.938491 -85.811823\n",
       "2  41.968310 -86.542530\n",
       "3  42.253229 -83.838777\n",
       "4  45.316530 -85.260720"
      ]
     },
     "execution_count": 8,
     "metadata": {},
     "output_type": "execute_result"
    }
   ],
   "source": [
    "# call the function to get the coordinates, store in a new list using list comprehension\n",
    "df_coords = [ get_latlng(Neighborhood) for Neighborhood in df[\"Neighborhood\"].tolist() ]\n",
    "# create temporary dataframe to populate the coordinates into Latitude and Longitude\n",
    "df_coords = pd.DataFrame(df_coords, columns=['Latitude', 'Longitude'])\n",
    "print(df_coords.shape)\n",
    "df_coords.head()"
   ]
  },
  {
   "cell_type": "markdown",
   "metadata": {},
   "source": [
    "#### Merge Coordinates to the main data "
   ]
  },
  {
   "cell_type": "code",
   "execution_count": 9,
   "metadata": {},
   "outputs": [
    {
     "name": "stdout",
     "output_type": "stream",
     "text": [
      "(70, 5)\n"
     ]
    },
    {
     "data": {
      "text/html": [
       "<div>\n",
       "<style scoped>\n",
       "    .dataframe tbody tr th:only-of-type {\n",
       "        vertical-align: middle;\n",
       "    }\n",
       "\n",
       "    .dataframe tbody tr th {\n",
       "        vertical-align: top;\n",
       "    }\n",
       "\n",
       "    .dataframe thead th {\n",
       "        text-align: right;\n",
       "    }\n",
       "</style>\n",
       "<table border=\"1\" class=\"dataframe\">\n",
       "  <thead>\n",
       "    <tr style=\"text-align: right;\">\n",
       "      <th></th>\n",
       "      <th>Neighborhood</th>\n",
       "      <th>Income</th>\n",
       "      <th>Population</th>\n",
       "      <th>Latitude</th>\n",
       "      <th>Longitude</th>\n",
       "    </tr>\n",
       "  </thead>\n",
       "  <tbody>\n",
       "    <tr>\n",
       "      <th>1</th>\n",
       "      <td>Leelanau</td>\n",
       "      <td>32194</td>\n",
       "      <td>21708</td>\n",
       "      <td>44.938491</td>\n",
       "      <td>-85.811823</td>\n",
       "    </tr>\n",
       "    <tr>\n",
       "      <th>2</th>\n",
       "      <td>Livingston</td>\n",
       "      <td>31609</td>\n",
       "      <td>180967</td>\n",
       "      <td>41.968310</td>\n",
       "      <td>-86.542530</td>\n",
       "    </tr>\n",
       "    <tr>\n",
       "      <th>3</th>\n",
       "      <td>Washtenaw</td>\n",
       "      <td>31316</td>\n",
       "      <td>344791</td>\n",
       "      <td>42.253229</td>\n",
       "      <td>-83.838777</td>\n",
       "    </tr>\n",
       "    <tr>\n",
       "      <th>4</th>\n",
       "      <td>Charlevoix</td>\n",
       "      <td>28403</td>\n",
       "      <td>25949</td>\n",
       "      <td>45.316530</td>\n",
       "      <td>-85.260720</td>\n",
       "    </tr>\n",
       "    <tr>\n",
       "      <th>5</th>\n",
       "      <td>Midland</td>\n",
       "      <td>28363</td>\n",
       "      <td>83629</td>\n",
       "      <td>43.617080</td>\n",
       "      <td>-84.245060</td>\n",
       "    </tr>\n",
       "  </tbody>\n",
       "</table>\n",
       "</div>"
      ],
      "text/plain": [
       "  Neighborhood  Income  Population   Latitude  Longitude\n",
       "1     Leelanau   32194       21708  44.938491 -85.811823\n",
       "2   Livingston   31609      180967  41.968310 -86.542530\n",
       "3    Washtenaw   31316      344791  42.253229 -83.838777\n",
       "4   Charlevoix   28403       25949  45.316530 -85.260720\n",
       "5      Midland   28363       83629  43.617080 -84.245060"
      ]
     },
     "execution_count": 9,
     "metadata": {},
     "output_type": "execute_result"
    }
   ],
   "source": [
    "df_mi=df_mi.merge(df_coords, left_index=True , right_index=True)\n",
    "#df_mi.drop(['Longitude_x', 'Latitude_x'], axis=1, inplace=True)\n",
    "#df_clusters.rename(columns={'Longitude_y':'Longitude', 'Latitude_y':'Latitude'},inplace=True)\n",
    "print(df_mi.shape)\n",
    "df_mi.head()"
   ]
  },
  {
   "cell_type": "markdown",
   "metadata": {},
   "source": [
    "#### Download venues from Foursquare"
   ]
  },
  {
   "cell_type": "code",
   "execution_count": 10,
   "metadata": {},
   "outputs": [],
   "source": [
    "#Foursquare API credentials \n",
    "CLIENT_ID = 'JD0MT5LNGHEA5UL1ZZCGXKBKDQ0IFHGWEOAXEU0U1W0Y0ICO' \n",
    "CLIENT_SECRET = 'NTQIGETPKBWWRTEIQ5N0P415S4QZ2BTLG3LR4MKP252WKYBK' \n",
    "VERSION = '20180605' \n",
    "\n",
    "#Michigan venues to explor\n",
    "LIMIT =100\n",
    "radius =2500\n",
    "\n",
    "def getNearbyVenues(name, latitudes, longitudes):\n",
    "    \n",
    "    venues_list=[]\n",
    "    for name, lat, lng in zip(name, latitudes, longitudes):\n",
    "        #print(name)\n",
    "            \n",
    "        # create the API request URL\n",
    "        url = 'https://api.foursquare.com/v2/venues/explore?&client_id={}&client_secret={}&v={}&ll={},{}&radius={}&limit={}'.format(\n",
    "            CLIENT_ID, \n",
    "            CLIENT_SECRET, \n",
    "            VERSION, \n",
    "            lat, \n",
    "            lng, \n",
    "            radius, \n",
    "            LIMIT)\n",
    "            \n",
    "        # make the GET request\n",
    "        results = requests.get(url).json()[\"response\"]['groups'][0]['items']\n",
    "        \n",
    "        # return only relevant information for each nearby venue\n",
    "        venues_list.append([(\n",
    "            name, \n",
    "            lat, \n",
    "            lng, \n",
    "            v['venue']['name'], \n",
    "            v['venue']['location']['lat'], \n",
    "            v['venue']['location']['lng'],  \n",
    "            v['venue']['categories'][0]['name']) for v in results])\n",
    "\n",
    "    nearby_venues = pd.DataFrame([item for venue_list in venues_list for item in venue_list])\n",
    "    nearby_venues.columns = ['Neighborhood', \n",
    "                  'Neighborhood Latitude', \n",
    "                  'Neighborhood Longitude', \n",
    "                  'Venue', \n",
    "                  'Venue Latitude', \n",
    "                  'Venue Longitude', \n",
    "                  'Venue Category']\n",
    "    \n",
    "    return(nearby_venues)"
   ]
  },
  {
   "cell_type": "code",
   "execution_count": 11,
   "metadata": {},
   "outputs": [
    {
     "name": "stdout",
     "output_type": "stream",
     "text": [
      "(1528, 7)\n"
     ]
    },
    {
     "data": {
      "text/html": [
       "<div>\n",
       "<style scoped>\n",
       "    .dataframe tbody tr th:only-of-type {\n",
       "        vertical-align: middle;\n",
       "    }\n",
       "\n",
       "    .dataframe tbody tr th {\n",
       "        vertical-align: top;\n",
       "    }\n",
       "\n",
       "    .dataframe thead th {\n",
       "        text-align: right;\n",
       "    }\n",
       "</style>\n",
       "<table border=\"1\" class=\"dataframe\">\n",
       "  <thead>\n",
       "    <tr style=\"text-align: right;\">\n",
       "      <th></th>\n",
       "      <th>Neighborhood</th>\n",
       "      <th>Neighborhood Latitude</th>\n",
       "      <th>Neighborhood Longitude</th>\n",
       "      <th>Venue</th>\n",
       "      <th>Venue Latitude</th>\n",
       "      <th>Venue Longitude</th>\n",
       "      <th>Venue Category</th>\n",
       "    </tr>\n",
       "  </thead>\n",
       "  <tbody>\n",
       "    <tr>\n",
       "      <th>0</th>\n",
       "      <td>Leelanau</td>\n",
       "      <td>44.938491</td>\n",
       "      <td>-85.811823</td>\n",
       "      <td>Good Harbor Bay Beach</td>\n",
       "      <td>44.947617</td>\n",
       "      <td>-85.811430</td>\n",
       "      <td>Beach</td>\n",
       "    </tr>\n",
       "    <tr>\n",
       "      <th>1</th>\n",
       "      <td>Leelanau</td>\n",
       "      <td>44.938491</td>\n",
       "      <td>-85.811823</td>\n",
       "      <td>Good Harbor Trail</td>\n",
       "      <td>44.929190</td>\n",
       "      <td>-85.834993</td>\n",
       "      <td>Trail</td>\n",
       "    </tr>\n",
       "    <tr>\n",
       "      <th>2</th>\n",
       "      <td>Leelanau</td>\n",
       "      <td>44.938491</td>\n",
       "      <td>-85.811823</td>\n",
       "      <td>Swanson Preserve</td>\n",
       "      <td>44.920907</td>\n",
       "      <td>-85.824049</td>\n",
       "      <td>Trail</td>\n",
       "    </tr>\n",
       "    <tr>\n",
       "      <th>3</th>\n",
       "      <td>Leelanau</td>\n",
       "      <td>44.938491</td>\n",
       "      <td>-85.811823</td>\n",
       "      <td>Cleveland Township Park</td>\n",
       "      <td>44.928629</td>\n",
       "      <td>-85.839381</td>\n",
       "      <td>Park</td>\n",
       "    </tr>\n",
       "    <tr>\n",
       "      <th>4</th>\n",
       "      <td>Livingston</td>\n",
       "      <td>41.968310</td>\n",
       "      <td>-86.542530</td>\n",
       "      <td>D'Agostino's Navajo Bar &amp; Grille</td>\n",
       "      <td>41.956402</td>\n",
       "      <td>-86.552969</td>\n",
       "      <td>Italian Restaurant</td>\n",
       "    </tr>\n",
       "  </tbody>\n",
       "</table>\n",
       "</div>"
      ],
      "text/plain": [
       "  Neighborhood  Neighborhood Latitude  Neighborhood Longitude  \\\n",
       "0     Leelanau              44.938491              -85.811823   \n",
       "1     Leelanau              44.938491              -85.811823   \n",
       "2     Leelanau              44.938491              -85.811823   \n",
       "3     Leelanau              44.938491              -85.811823   \n",
       "4   Livingston              41.968310              -86.542530   \n",
       "\n",
       "                              Venue  Venue Latitude  Venue Longitude  \\\n",
       "0             Good Harbor Bay Beach       44.947617       -85.811430   \n",
       "1                 Good Harbor Trail       44.929190       -85.834993   \n",
       "2                  Swanson Preserve       44.920907       -85.824049   \n",
       "3           Cleveland Township Park       44.928629       -85.839381   \n",
       "4  D'Agostino's Navajo Bar & Grille       41.956402       -86.552969   \n",
       "\n",
       "       Venue Category  \n",
       "0               Beach  \n",
       "1               Trail  \n",
       "2               Trail  \n",
       "3                Park  \n",
       "4  Italian Restaurant  "
      ]
     },
     "execution_count": 11,
     "metadata": {},
     "output_type": "execute_result"
    }
   ],
   "source": [
    "michigan_venues = getNearbyVenues(name=df_mi['Neighborhood'],\n",
    "                                   latitudes=df_mi['Latitude'],\n",
    "                                   longitudes=df_mi['Longitude']\n",
    "                                  )\n",
    "print(michigan_venues.shape)\n",
    "michigan_venues.head()"
   ]
  },
  {
   "cell_type": "markdown",
   "metadata": {},
   "source": [
    "## II. DATA ANALYSIS"
   ]
  },
  {
   "cell_type": "markdown",
   "metadata": {},
   "source": [
    "#### Count number of venues in Neighborhood "
   ]
  },
  {
   "cell_type": "markdown",
   "metadata": {},
   "source": [
    "Here only venues that will affact influence opening restaurants will be counted, these are other restaurants, bars, theaters , cafe, shopes, pizza. "
   ]
  },
  {
   "cell_type": "code",
   "execution_count": 12,
   "metadata": {},
   "outputs": [
    {
     "data": {
      "text/html": [
       "<div>\n",
       "<style scoped>\n",
       "    .dataframe tbody tr th:only-of-type {\n",
       "        vertical-align: middle;\n",
       "    }\n",
       "\n",
       "    .dataframe tbody tr th {\n",
       "        vertical-align: top;\n",
       "    }\n",
       "\n",
       "    .dataframe thead th {\n",
       "        text-align: right;\n",
       "    }\n",
       "</style>\n",
       "<table border=\"1\" class=\"dataframe\">\n",
       "  <thead>\n",
       "    <tr style=\"text-align: right;\">\n",
       "      <th></th>\n",
       "      <th>Number of restaurants</th>\n",
       "    </tr>\n",
       "    <tr>\n",
       "      <th>Neighborhood</th>\n",
       "      <th></th>\n",
       "    </tr>\n",
       "  </thead>\n",
       "  <tbody>\n",
       "    <tr>\n",
       "      <th>Alcona</th>\n",
       "      <td>8</td>\n",
       "    </tr>\n",
       "    <tr>\n",
       "      <th>Allegan</th>\n",
       "      <td>16</td>\n",
       "    </tr>\n",
       "    <tr>\n",
       "      <th>Alpena</th>\n",
       "      <td>17</td>\n",
       "    </tr>\n",
       "    <tr>\n",
       "      <th>Barry</th>\n",
       "      <td>4</td>\n",
       "    </tr>\n",
       "    <tr>\n",
       "      <th>Bay</th>\n",
       "      <td>5</td>\n",
       "    </tr>\n",
       "  </tbody>\n",
       "</table>\n",
       "</div>"
      ],
      "text/plain": [
       "              Number of restaurants\n",
       "Neighborhood                       \n",
       "Alcona                            8\n",
       "Allegan                          16\n",
       "Alpena                           17\n",
       "Barry                             4\n",
       "Bay                               5"
      ]
     },
     "execution_count": 12,
     "metadata": {},
     "output_type": "execute_result"
    }
   ],
   "source": [
    "michigan_restaurant = michigan_venues[(michigan_venues['Venue Category'].str.contains('Restaurant', regex=False)) | (michigan_venues['Venue Category'].str.contains('Shop', regex=False)) |(michigan_venues['Venue Category'].str.contains('Pizza', regex=False)) |  (michigan_venues['Venue Category'].str.contains('bar', regex=False)) | (michigan_venues['Venue Category'].str.contains('cafe', regex=False)) | (michigan_venues['Venue Category'].str.contains('theater', regex=False)) | (michigan_venues['Venue Category'].str.contains('Bar', regex=False))].groupby(['Neighborhood']).count()\n",
    "\n",
    "michigan_restaurant.drop(['Neighborhood Latitude', 'Neighborhood Longitude', 'Venue Longitude', 'Venue', 'Venue Latitude'], axis = 1, inplace = True)\n",
    "michigan_restaurant.rename(columns = {'Venue Category':'Number of restaurants'}, inplace=True)\n",
    "michigan_restaurant.shape\n"
   ]
  },
  {
   "cell_type": "code",
   "execution_count": 18,
   "metadata": {},
   "outputs": [
    {
     "data": {
      "image/png": "[encoded data removed]",
      "text/plain": [
       "<Figure size 576x648 with 1 Axes>"
      ]
     },
     "metadata": {
      "needs_background": "light"
     },
     "output_type": "display_data"
    }
   ],
   "source": [
    "# Number of restaurants\n",
    "michigan_restaurant[['Number of restaurants',]].plot(kind='barh', figsize=(8,9 ), legend = None)\n",
    "\n",
    "plt.xlabel('Number of restaurants') # add to x-label to the plot\n",
    "plt.ylabel('Neighborhood') # add y-label to the plot\n",
    "plt.title('Number of restaurants') # add title to the plot\n",
    "plt.show()"
   ]
  },
  {
   "cell_type": "code",
   "execution_count": 20,
   "metadata": {},
   "outputs": [
    {
     "name": "stdout",
     "output_type": "stream",
     "text": [
      "(45, 6)\n"
     ]
    },
    {
     "data": {
      "text/html": [
       "<div>\n",
       "<style scoped>\n",
       "    .dataframe tbody tr th:only-of-type {\n",
       "        vertical-align: middle;\n",
       "    }\n",
       "\n",
       "    .dataframe tbody tr th {\n",
       "        vertical-align: top;\n",
       "    }\n",
       "\n",
       "    .dataframe thead th {\n",
       "        text-align: right;\n",
       "    }\n",
       "</style>\n",
       "<table border=\"1\" class=\"dataframe\">\n",
       "  <thead>\n",
       "    <tr style=\"text-align: right;\">\n",
       "      <th></th>\n",
       "      <th>Neighborhood</th>\n",
       "      <th>Income</th>\n",
       "      <th>Population</th>\n",
       "      <th>Latitude</th>\n",
       "      <th>Longitude</th>\n",
       "      <th>Number of restaurants</th>\n",
       "    </tr>\n",
       "  </thead>\n",
       "  <tbody>\n",
       "    <tr>\n",
       "      <th>2</th>\n",
       "      <td>Livingston</td>\n",
       "      <td>31609</td>\n",
       "      <td>180967</td>\n",
       "      <td>41.96831</td>\n",
       "      <td>-86.54253</td>\n",
       "      <td>1.0</td>\n",
       "    </tr>\n",
       "    <tr>\n",
       "      <th>4</th>\n",
       "      <td>Charlevoix</td>\n",
       "      <td>28403</td>\n",
       "      <td>25949</td>\n",
       "      <td>45.31653</td>\n",
       "      <td>-85.26072</td>\n",
       "      <td>14.0</td>\n",
       "    </tr>\n",
       "    <tr>\n",
       "      <th>5</th>\n",
       "      <td>Midland</td>\n",
       "      <td>28363</td>\n",
       "      <td>83629</td>\n",
       "      <td>43.61708</td>\n",
       "      <td>-84.24506</td>\n",
       "      <td>24.0</td>\n",
       "    </tr>\n",
       "    <tr>\n",
       "      <th>9</th>\n",
       "      <td>Grand Traverse</td>\n",
       "      <td>27091</td>\n",
       "      <td>86986</td>\n",
       "      <td>42.69565</td>\n",
       "      <td>-82.92171</td>\n",
       "      <td>4.0</td>\n",
       "    </tr>\n",
       "    <tr>\n",
       "      <th>11</th>\n",
       "      <td>Eaton</td>\n",
       "      <td>25963</td>\n",
       "      <td>107759</td>\n",
       "      <td>41.91606</td>\n",
       "      <td>-83.39790</td>\n",
       "      <td>23.0</td>\n",
       "    </tr>\n",
       "  </tbody>\n",
       "</table>\n",
       "</div>"
      ],
      "text/plain": [
       "      Neighborhood  Income  Population  Latitude  Longitude  \\\n",
       "2       Livingston   31609      180967  41.96831  -86.54253   \n",
       "4       Charlevoix   28403       25949  45.31653  -85.26072   \n",
       "5          Midland   28363       83629  43.61708  -84.24506   \n",
       "9   Grand Traverse   27091       86986  42.69565  -82.92171   \n",
       "11           Eaton   25963      107759  41.91606  -83.39790   \n",
       "\n",
       "    Number of restaurants  \n",
       "2                     1.0  \n",
       "4                    14.0  \n",
       "5                    24.0  \n",
       "9                     4.0  \n",
       "11                   23.0  "
      ]
     },
     "execution_count": 20,
     "metadata": {},
     "output_type": "execute_result"
    }
   ],
   "source": [
    "# join above dataframe to the main df\n",
    "df_mi = df_mi.join(michigan_restaurant, on='Neighborhood')\n",
    "df_mi.dropna(axis=0, inplace=True)\n",
    "#df_mi.fillna(0, inplace=True)\n",
    "#df_clusters =df_clusters[df_clusters.Population.gt(30000) & df_clusters.Population.lt(700000) ]\n",
    "print(df_mi.shape)\n",
    "df_mi.head()"
   ]
  },
  {
   "cell_type": "code",
   "execution_count": 21,
   "metadata": {},
   "outputs": [
    {
     "name": "stdout",
     "output_type": "stream",
     "text": [
      "(45, 3)\n"
     ]
    },
    {
     "data": {
      "text/html": [
       "<div>\n",
       "<style scoped>\n",
       "    .dataframe tbody tr th:only-of-type {\n",
       "        vertical-align: middle;\n",
       "    }\n",
       "\n",
       "    .dataframe tbody tr th {\n",
       "        vertical-align: top;\n",
       "    }\n",
       "\n",
       "    .dataframe thead th {\n",
       "        text-align: right;\n",
       "    }\n",
       "</style>\n",
       "<table border=\"1\" class=\"dataframe\">\n",
       "  <thead>\n",
       "    <tr style=\"text-align: right;\">\n",
       "      <th></th>\n",
       "      <th>Income</th>\n",
       "      <th>Population</th>\n",
       "      <th>Number of restaurants</th>\n",
       "    </tr>\n",
       "  </thead>\n",
       "  <tbody>\n",
       "    <tr>\n",
       "      <th>2</th>\n",
       "      <td>31609</td>\n",
       "      <td>180967</td>\n",
       "      <td>1.0</td>\n",
       "    </tr>\n",
       "    <tr>\n",
       "      <th>4</th>\n",
       "      <td>28403</td>\n",
       "      <td>25949</td>\n",
       "      <td>14.0</td>\n",
       "    </tr>\n",
       "    <tr>\n",
       "      <th>5</th>\n",
       "      <td>28363</td>\n",
       "      <td>83629</td>\n",
       "      <td>24.0</td>\n",
       "    </tr>\n",
       "    <tr>\n",
       "      <th>9</th>\n",
       "      <td>27091</td>\n",
       "      <td>86986</td>\n",
       "      <td>4.0</td>\n",
       "    </tr>\n",
       "    <tr>\n",
       "      <th>11</th>\n",
       "      <td>25963</td>\n",
       "      <td>107759</td>\n",
       "      <td>23.0</td>\n",
       "    </tr>\n",
       "  </tbody>\n",
       "</table>\n",
       "</div>"
      ],
      "text/plain": [
       "    Income  Population  Number of restaurants\n",
       "2    31609      180967                    1.0\n",
       "4    28403       25949                   14.0\n",
       "5    28363       83629                   24.0\n",
       "9    27091       86986                    4.0\n",
       "11   25963      107759                   23.0"
      ]
     },
     "execution_count": 21,
     "metadata": {},
     "output_type": "execute_result"
    }
   ],
   "source": [
    "df_clusters=df_mi[['Income', 'Population', 'Number of restaurants']].copy()\n",
    "print(df_clusters.shape)\n",
    "df_clusters.head()"
   ]
  },
  {
   "cell_type": "markdown",
   "metadata": {},
   "source": [
    "#### Data clustering"
   ]
  },
  {
   "cell_type": "markdown",
   "metadata": {},
   "source": [
    "Data will be standerized and with Elbow method K will selected"
   ]
  },
  {
   "cell_type": "code",
   "execution_count": 22,
   "metadata": {},
   "outputs": [
    {
     "name": "stderr",
     "output_type": "stream",
     "text": [
      "/home/jupyterlab/conda/envs/python/lib/python3.6/site-packages/sklearn/preprocessing/data.py:625: DataConversionWarning: Data with input dtype int64, float64 were all converted to float64 by StandardScaler.\n",
      "  return self.partial_fit(X, y)\n",
      "/home/jupyterlab/conda/envs/python/lib/python3.6/site-packages/sklearn/base.py:462: DataConversionWarning: Data with input dtype int64, float64 were all converted to float64 by StandardScaler.\n",
      "  return self.fit(X, **fit_params).transform(X)\n"
     ]
    },
    {
     "data": {
      "text/plain": [
       "array([[ 3.20619129,  1.18325904, -1.04147743],\n",
       "       [ 2.10491178, -0.65782114,  0.06026633],\n",
       "       [ 2.09117155,  0.02721869,  0.90776152]])"
      ]
     },
     "execution_count": 22,
     "metadata": {},
     "output_type": "execute_result"
    }
   ],
   "source": [
    "# Data standerize \n",
    "from sklearn.preprocessing import StandardScaler\n",
    "df_clusters = StandardScaler().fit_transform(df_clusters)\n",
    "df_clusters[0:3]"
   ]
  },
  {
   "cell_type": "code",
   "execution_count": 23,
   "metadata": {},
   "outputs": [
    {
     "data": {
      "image/png": "[encoded data removed]",
      "text/plain": [
       "<Figure size 432x288 with 1 Axes>"
      ]
     },
     "metadata": {
      "needs_background": "light"
     },
     "output_type": "display_data"
    }
   ],
   "source": [
    "from sklearn.cluster import KMeans\n",
    "from sklearn import metrics\n",
    "from scipy.spatial.distance import cdist\n",
    "\n",
    "distortions = []\n",
    "K = range(1,10)\n",
    "for k in K:\n",
    "    kmeanModel = KMeans(n_clusters=k).fit(df_clusters)\n",
    "    kmeanModel.fit(df_clusters)\n",
    "    distortions.append(sum(np.min(cdist(df_clusters, kmeanModel.cluster_centers_, 'euclidean'), axis=1)) / df_clusters.shape[0])\n",
    "\n",
    "# Plot the elbow\n",
    "plt.plot(K, distortions, 'bx-')\n",
    "plt.xlabel('k')\n",
    "plt.ylabel('Distortion')\n",
    "plt.title('The Elbow Method showing the optimal k')\n",
    "plt.show()"
   ]
  },
  {
   "cell_type": "markdown",
   "metadata": {},
   "source": [
    "Data will be clustered with k = 4"
   ]
  },
  {
   "cell_type": "code",
   "execution_count": 24,
   "metadata": {},
   "outputs": [
    {
     "data": {
      "text/plain": [
       "array([0, 0, 0, 0, 0, 3, 2, 0, 1, 2, 3, 1, 1, 1, 1, 1, 1, 1, 2, 3, 1, 3,\n",
       "       2, 3, 1, 2, 1, 1, 1, 1, 1, 3, 1, 1, 1, 1, 1, 1, 1, 1, 1, 1, 3, 1,\n",
       "       1], dtype=int32)"
      ]
     },
     "execution_count": 24,
     "metadata": {},
     "output_type": "execute_result"
    }
   ],
   "source": [
    "# set number of clusters\n",
    "kclusters = 4\n",
    "\n",
    "# run k-means clustering\n",
    "kmeans = KMeans(n_clusters=kclusters, random_state=0).fit(df_clusters)\n",
    "\n",
    "# check cluster labels generated for each row in the dataframe\n",
    "kmeans.labels_"
   ]
  },
  {
   "cell_type": "code",
   "execution_count": 25,
   "metadata": {},
   "outputs": [
    {
     "data": {
      "text/html": [
       "<div>\n",
       "<style scoped>\n",
       "    .dataframe tbody tr th:only-of-type {\n",
       "        vertical-align: middle;\n",
       "    }\n",
       "\n",
       "    .dataframe tbody tr th {\n",
       "        vertical-align: top;\n",
       "    }\n",
       "\n",
       "    .dataframe thead th {\n",
       "        text-align: right;\n",
       "    }\n",
       "</style>\n",
       "<table border=\"1\" class=\"dataframe\">\n",
       "  <thead>\n",
       "    <tr style=\"text-align: right;\">\n",
       "      <th></th>\n",
       "      <th>Cluster Labels</th>\n",
       "      <th>Neighborhood</th>\n",
       "      <th>Income</th>\n",
       "      <th>Population</th>\n",
       "      <th>Latitude</th>\n",
       "      <th>Longitude</th>\n",
       "      <th>Number of restaurants</th>\n",
       "    </tr>\n",
       "  </thead>\n",
       "  <tbody>\n",
       "    <tr>\n",
       "      <th>2</th>\n",
       "      <td>0</td>\n",
       "      <td>Livingston</td>\n",
       "      <td>31609</td>\n",
       "      <td>180967</td>\n",
       "      <td>41.96831</td>\n",
       "      <td>-86.54253</td>\n",
       "      <td>1.0</td>\n",
       "    </tr>\n",
       "    <tr>\n",
       "      <th>4</th>\n",
       "      <td>0</td>\n",
       "      <td>Charlevoix</td>\n",
       "      <td>28403</td>\n",
       "      <td>25949</td>\n",
       "      <td>45.31653</td>\n",
       "      <td>-85.26072</td>\n",
       "      <td>14.0</td>\n",
       "    </tr>\n",
       "    <tr>\n",
       "      <th>5</th>\n",
       "      <td>0</td>\n",
       "      <td>Midland</td>\n",
       "      <td>28363</td>\n",
       "      <td>83629</td>\n",
       "      <td>43.61708</td>\n",
       "      <td>-84.24506</td>\n",
       "      <td>24.0</td>\n",
       "    </tr>\n",
       "    <tr>\n",
       "      <th>9</th>\n",
       "      <td>0</td>\n",
       "      <td>Grand Traverse</td>\n",
       "      <td>27091</td>\n",
       "      <td>86986</td>\n",
       "      <td>42.69565</td>\n",
       "      <td>-82.92171</td>\n",
       "      <td>4.0</td>\n",
       "    </tr>\n",
       "    <tr>\n",
       "      <th>11</th>\n",
       "      <td>0</td>\n",
       "      <td>Eaton</td>\n",
       "      <td>25963</td>\n",
       "      <td>107759</td>\n",
       "      <td>41.91606</td>\n",
       "      <td>-83.39790</td>\n",
       "      <td>23.0</td>\n",
       "    </tr>\n",
       "  </tbody>\n",
       "</table>\n",
       "</div>"
      ],
      "text/plain": [
       "    Cluster Labels    Neighborhood  Income  Population  Latitude  Longitude  \\\n",
       "2                0      Livingston   31609      180967  41.96831  -86.54253   \n",
       "4                0      Charlevoix   28403       25949  45.31653  -85.26072   \n",
       "5                0         Midland   28363       83629  43.61708  -84.24506   \n",
       "9                0  Grand Traverse   27091       86986  42.69565  -82.92171   \n",
       "11               0           Eaton   25963      107759  41.91606  -83.39790   \n",
       "\n",
       "    Number of restaurants  \n",
       "2                     1.0  \n",
       "4                    14.0  \n",
       "5                    24.0  \n",
       "9                     4.0  \n",
       "11                   23.0  "
      ]
     },
     "execution_count": 25,
     "metadata": {},
     "output_type": "execute_result"
    }
   ],
   "source": [
    "# Merge cluster to the main dataframe\n",
    "\n",
    "df_mi.insert(0, 'Cluster Labels', kmeans.labels_)\n",
    "df_mi.head()"
   ]
  },
  {
   "cell_type": "markdown",
   "metadata": {},
   "source": [
    "## III. RESULTS"
   ]
  },
  {
   "cell_type": "markdown",
   "metadata": {},
   "source": [
    "#### Create a map of Michigan with neighborhoods superimposed on top."
   ]
  },
  {
   "cell_type": "markdown",
   "metadata": {},
   "source": [
    "Four clusters represented with color code"
   ]
  },
  {
   "cell_type": "code",
   "execution_count": 33,
   "metadata": {},
   "outputs": [
    {
     "data": {
      "text/html": [
       "<div style=\"width:100%;\"><div style=\"position:relative;width:100%;height:0;padding-bottom:60%;\"><span style=\"color:#565656\">Make this Notebook Trusted to load map: File -> Trust Notebook</span><iframe src=\"about:blank\" style=\"position:absolute;width:100%;height:100%;left:0;top:0;border:none !important;\" data-html=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 onload=\"this.contentDocument.open();this.contentDocument.write(atob(this.getAttribute('data-html')));this.contentDocument.close();\" allowfullscreen webkitallowfullscreen mozallowfullscreen></iframe></div></div>"
      ],
      "text/plain": [
       "<folium.folium.Map at 0x7fab3b904400>"
      ]
     },
     "execution_count": 33,
     "metadata": {},
     "output_type": "execute_result"
    }
   ],
   "source": [
    "# create map\n",
    "map_clusters = folium.Map(location=[43.6211955, -84.6824346], zoom_start=6)\n",
    "colours = ['red', 'black', 'blue', 'violet']\n",
    "# set color scheme for the clusters\n",
    "x = np.arange(kclusters)\n",
    "ys = [i + x + (i*x)**2 for i in range(kclusters)]\n",
    "colors_array = cm.rainbow(np.linspace(0, 1, len(ys)))\n",
    "rainbow = [colors.rgb2hex(i) for i in colors_array]\n",
    "\n",
    "# add markers to the map\n",
    "markers_colors = []\n",
    "for lat, lon, poi, cluster, income,popu, restu in zip(df_mi['Latitude'], df_mi['Longitude'], df_mi['Neighborhood'], df_mi['Cluster Labels'], df_clusters[:,0],df_clusters[:,1],df_clusters[:,2]):\n",
    "    label = folium.Popup(str(poi) + ' Cluster ' + str(cluster), parse_html=True)\n",
    "    folium.CircleMarker(\n",
    "        [lat, lon],\n",
    "        radius=5,\n",
    "        popup=label,\n",
    "        #color=rainbow[cluster-1],\n",
    "        color=colours[cluster],\n",
    "        fill=True,\n",
    "        #fill_color=rainbow[cluster-1],\n",
    "        fill_color=colours[cluster],\n",
    "        fill_opacity=0.7).add_to(map_clusters)\n",
    "       \n",
    "map_clusters"
   ]
  },
  {
   "cell_type": "markdown",
   "metadata": {},
   "source": [
    "#### Scattered plot of clusters with luster center"
   ]
  },
  {
   "cell_type": "markdown",
   "metadata": {},
   "source": [
    "Scatter plots of the normalized data (number of resturants vs income) and clusters defined with colors as well as size (size in increasing order from cluster 0 to cluster 3). The black star marker is representing the centroid of each cluster."
   ]
  },
  {
   "cell_type": "code",
   "execution_count": 27,
   "metadata": {},
   "outputs": [
    {
     "data": {
      "image/png": "[encoded data removed]",
      "text/plain": [
       "<Figure size 432x288 with 1 Axes>"
      ]
     },
     "metadata": {
      "needs_background": "light"
     },
     "output_type": "display_data"
    }
   ],
   "source": [
    "import matplotlib.pyplot as plt\n",
    "y_kmeans = kmeans.predict(df_clusters)\n",
    "clusterL = df_mi['Cluster Labels']\n",
    "plt.scatter(df_clusters[:, 0], df_clusters[:, 2], c=y_kmeans, s=(clusterL+1)*20*(clusterL+1), cmap='viridis')\n",
    "\n",
    "centers = kmeans.cluster_centers_\n",
    "plt.scatter(centers[:, 0], centers[:, 2], c='black', s=100, marker= '*');\n",
    "plt.xlabel('Net income per person')\n",
    "plt.ylabel('Number of restaurants ')\n",
    "plt.show()"
   ]
  },
  {
   "cell_type": "markdown",
   "metadata": {},
   "source": [
    "#### Population size in each cluster"
   ]
  },
  {
   "cell_type": "code",
   "execution_count": 28,
   "metadata": {},
   "outputs": [
    {
     "name": "stdout",
     "output_type": "stream",
     "text": [
      "(6, 7)\n"
     ]
    },
    {
     "data": {
      "image/png": "[encoded data removed]",
      "text/plain": [
       "<Figure size 432x288 with 1 Axes>"
      ]
     },
     "metadata": {
      "needs_background": "light"
     },
     "output_type": "display_data"
    }
   ],
   "source": [
    "# Cluster 0 plot data\n",
    "df_c0=df_mi[(df_mi['Cluster Labels'] == 0)]\n",
    "print(df_c0.shape)\n",
    "df_c0[['Neighborhood', 'Population']].plot(kind='barh', legend = None)\n",
    "\n",
    "plt.xlabel('Number of inhabitants') # add to x-label to the plot\n",
    "plt.ylabel('Number of restuerants') # add y-label to the plot\n",
    "plt.title('Population in Michigan in Cluster 0') # add title to the plot\n",
    "plt.yticks (np.arange(6), df_c0['Neighborhood'])\n",
    "plt.show()"
   ]
  },
  {
   "cell_type": "code",
   "execution_count": 29,
   "metadata": {},
   "outputs": [
    {
     "name": "stdout",
     "output_type": "stream",
     "text": [
      "(27, 7)\n"
     ]
    },
    {
     "data": {
      "image/png": "[encoded data removed]",
      "text/plain": [
       "<Figure size 576x576 with 1 Axes>"
      ]
     },
     "metadata": {
      "needs_background": "light"
     },
     "output_type": "display_data"
    }
   ],
   "source": [
    "# Cluster 1 plot data\n",
    "df_c1=df_mi[(df_mi['Cluster Labels'] == 1)]\n",
    "print(df_c1.shape)\n",
    "df_c1[['Neighborhood', 'Population']].plot(kind='barh', figsize=(8,8 ), legend = None)\n",
    "\n",
    "plt.xlabel('Number of inhabitants') # add to x-label to the plot\n",
    "plt.ylabel('Number of restuerants') # add y-label to the plot\n",
    "plt.title('Population in Michigan in Cluster 1') # add title to the plot\n",
    "plt.yticks(np.arange(27), df_c1['Neighborhood'])\n",
    "plt.show()"
   ]
  },
  {
   "cell_type": "code",
   "execution_count": 30,
   "metadata": {},
   "outputs": [
    {
     "name": "stdout",
     "output_type": "stream",
     "text": [
      "(5, 7)\n"
     ]
    },
    {
     "data": {
      "image/png": "[encoded data removed]",
      "text/plain": [
       "<Figure size 576x288 with 1 Axes>"
      ]
     },
     "metadata": {
      "needs_background": "light"
     },
     "output_type": "display_data"
    }
   ],
   "source": [
    "# Cluster 2 plot data\n",
    "df_c2=df_mi[(df_mi['Cluster Labels'] == 2)]\n",
    "print(df_c2.shape)\n",
    "df_c2[['Neighborhood', 'Population']].plot(kind='barh', figsize=(8,4),legend = None)\n",
    "\n",
    "plt.xlabel('Number of inhabitants') # add to x-label to the plot\n",
    "plt.ylabel('Number of restuerants') # add y-label to the plot\n",
    "plt.title('Population in Michigan in Cluster 2') # add title to the plot\n",
    "plt.yticks (np.arange(5), df_c2['Neighborhood'])\n",
    "plt.show()"
   ]
  },
  {
   "cell_type": "code",
   "execution_count": 31,
   "metadata": {},
   "outputs": [
    {
     "name": "stdout",
     "output_type": "stream",
     "text": [
      "(7, 7)\n"
     ]
    },
    {
     "data": {
      "image/png": "[encoded data removed]",
      "text/plain": [
       "<Figure size 432x288 with 1 Axes>"
      ]
     },
     "metadata": {
      "needs_background": "light"
     },
     "output_type": "display_data"
    }
   ],
   "source": [
    "# Cluster 3 plot data\n",
    "df_c3=df_mi[(df_mi['Cluster Labels'] == 3)]\n",
    "print(df_c3.shape)\n",
    "df_c3[['Neighborhood', 'Population']].plot(kind='barh', legend = None)\n",
    "\n",
    "plt.xlabel('Number of inhabitants') # add to x-label to the plot\n",
    "plt.ylabel('Number of restuerants') # add y-label to the plot\n",
    "plt.title('Population in Michigan in Cluster 3') # add title to the plot\n",
    "plt.yticks (np.arange(7), df_c3['Neighborhood'])\n",
    "plt.show()"
   ]
  },
  {
   "cell_type": "markdown",
   "metadata": {},
   "source": [
    "#### See Report for Discussion and Conclusion"
   ]
  },
  {
   "cell_type": "code",
   "execution_count": null,
   "metadata": {},
   "outputs": [],
   "source": []
  }
 ],
 "metadata": {
  "kernelspec": {
   "display_name": "Python",
   "language": "python",
   "name": "conda-env-python-py"
  },
  "language_info": {
   "codemirror_mode": {
    "name": "ipython",
    "version": 3
   },
   "file_extension": ".py",
   "mimetype": "text/x-python",
   "name": "python",
   "nbconvert_exporter": "python",
   "pygments_lexer": "ipython3",
   "version": "3.6.11"
  }
 },
 "nbformat": 4,
 "nbformat_minor": 4
}
